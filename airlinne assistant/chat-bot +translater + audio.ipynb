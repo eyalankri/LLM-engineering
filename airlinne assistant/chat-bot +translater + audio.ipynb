{
 "cells": [
  {
   "cell_type": "markdown",
   "id": "ddfa9ae6-69fe-444a-b994-8c4c5970a7ec",
   "metadata": {},
   "source": [
    "# Project - Airline AI Assistant\n",
    "\n",
    "We'll now bring together what we've learned to make an AI Customer Support assistant for an Airline"
   ]
  },
  {
   "cell_type": "code",
   "execution_count": 36,
   "id": "b7440fc3-1699-4879-bf83-e31300ab21a9",
   "metadata": {},
   "outputs": [
    {
     "name": "stdout",
     "output_type": "stream",
     "text": [
      "Requirement already satisfied: simpleaudio in c:\\users\\eyala\\anaconda3\\envs\\llms\\lib\\site-packages (1.0.4)\n"
     ]
    }
   ],
   "source": [
    "!pip install simpleaudio"
   ]
  },
  {
   "cell_type": "code",
   "execution_count": 37,
   "id": "8b50bbe2-c0b1-49c3-9a5c-1ba7efa2bcb4",
   "metadata": {},
   "outputs": [],
   "source": [
    "# imports\n",
    "\n",
    "import os\n",
    "import json\n",
    "from dotenv import load_dotenv\n",
    "from openai import OpenAI\n",
    "import gradio as gr\n",
    "# Some imports for handling images\n",
    "\n",
    "import base64\n",
    "from io import BytesIO\n",
    "from PIL import Image\n",
    "\n"
   ]
  },
  {
   "cell_type": "code",
   "execution_count": 38,
   "id": "747e8786-9da8-4342-b6c9-f5f69c2e22ae",
   "metadata": {},
   "outputs": [
    {
     "name": "stdout",
     "output_type": "stream",
     "text": [
      "OpenAI API Key exists and begins sk-proj-\n"
     ]
    }
   ],
   "source": [
    "# Initialization\n",
    "\n",
    "load_dotenv(override=True)\n",
    "\n",
    "openai_api_key = os.getenv('OPENAI_API_KEY')\n",
    "if openai_api_key:\n",
    "    print(f\"OpenAI API Key exists and begins {openai_api_key[:8]}\")\n",
    "else:\n",
    "    print(\"OpenAI API Key not set\")\n",
    "    \n",
    "MODEL = \"gpt-4o-mini\"\n",
    "openai = OpenAI()"
   ]
  },
  {
   "cell_type": "code",
   "execution_count": 39,
   "id": "0a521d84-d07c-49ab-a0df-d6451499ed97",
   "metadata": {},
   "outputs": [],
   "source": [
    "system_message = \"You are a helpful assistant for an Airline called FlightAI. \"\n",
    "system_message += \"Give short, courteous answers, no more than 1 sentence. \"\n",
    "system_message += \"Always be accurate. If you don't know the answer, say so.\"\n",
    "system_message_translator = \"You are an english to hebrew professional translator. return the messages as Hebrew\""
   ]
  },
  {
   "cell_type": "code",
   "execution_count": 40,
   "id": "0696acb1-0b05-4dc2-80d5-771be04f1fb2",
   "metadata": {},
   "outputs": [],
   "source": [
    "# Let's start by making a useful function\n",
    "\n",
    "ticket_prices = {\"london\": \"$799\", \"paris\": \"$899\", \"tokyo\": \"$1400\", \"berlin\": \"$499\"}\n",
    "\n",
    "def get_ticket_price(destination_city):\n",
    "    print(f\"Tool get_ticket_price called for {destination_city}\")\n",
    "    city = destination_city.lower()\n",
    "    return ticket_prices.get(city, \"Unknown\") # the json with tickes prices"
   ]
  },
  {
   "cell_type": "code",
   "execution_count": 41,
   "id": "4afceded-7178-4c05-8fa6-9f2085e6a344",
   "metadata": {},
   "outputs": [],
   "source": [
    "# And this is included in a list of tools:\n",
    "# There's a particular dictionary structure that's required to describe our function:\n",
    "\n",
    "price_function = {\n",
    "    \"name\": \"get_ticket_price\",\n",
    "    \"description\": \"Get the price of a return ticket to the destination city. Call this whenever you need to know the ticket price, for example when a customer asks 'How much is a ticket to this city'\",\n",
    "    \"parameters\": {\n",
    "        \"type\": \"object\",\n",
    "        \"properties\": {\n",
    "            \"destination_city\": {\n",
    "                \"type\": \"string\",\n",
    "                \"description\": \"The city that the customer wants to travel to\",\n",
    "            },\n",
    "        },\n",
    "        \"required\": [\"destination_city\"],\n",
    "        \"additionalProperties\": False\n",
    "    }\n",
    "}\n",
    "\n"
   ]
  },
  {
   "cell_type": "code",
   "execution_count": 42,
   "id": "653ebae7-9c0b-45c7-8207-472f2424b744",
   "metadata": {},
   "outputs": [],
   "source": [
    "reservation_function = {\n",
    "    \"name\": \"store_reservation\",\n",
    "    \"description\": \"Store a reservation for a return ticket, including city, price, and user name, in a text file.\",\n",
    "    \"parameters\": {\n",
    "        \"type\": \"object\",\n",
    "        \"properties\": {\n",
    "            \"destination_city\": {\n",
    "                \"type\": \"string\",\n",
    "                \"description\": \"The city the customer wants to reserve a ticket for\",\n",
    "            },\n",
    "            \"price\": {\n",
    "                \"type\": \"string\",\n",
    "                \"description\": \"The price of the return ticket\",\n",
    "            },\n",
    "            \"first_name\": {\n",
    "                \"type\": \"string\",\n",
    "                \"description\": \"The name of the customer making the reservation\",\n",
    "            },\n",
    "        },\n",
    "        # The LLM is smart enough to extract the user's name from conversation context \n",
    "        # (e.g. \"My name is Alex\") and automatically insert it into the 'first_name' parameter\n",
    "        \"required\": [\"destination_city\", \"price\", \"first_name\"], \n",
    "        \"additionalProperties\": False\n",
    "    }\n",
    "}\n"
   ]
  },
  {
   "cell_type": "code",
   "execution_count": 43,
   "id": "bdca8679-935f-4e7f-97e6-e71a4d4f228c",
   "metadata": {},
   "outputs": [],
   "source": [
    "tools = [\n",
    "    {\"type\": \"function\", \"function\": price_function},\n",
    "    {\"type\": \"function\", \"function\": reservation_function}\n",
    "]"
   ]
  },
  {
   "cell_type": "code",
   "execution_count": 44,
   "id": "3634380c-800b-4571-8004-df9eeb7d69e8",
   "metadata": {},
   "outputs": [],
   "source": [
    "# FIXED: Updated function signature to include first_name\n",
    "def store_reservation(destination_city, price, first_name):\n",
    "    print(f\"Tool store_reservation called for {destination_city} with price {price} for {first_name}\")\n",
    "    print(f\"Drawing the ticket for {first_name}. please wait...\")\n",
    "    with open(\"reservations.txt\", \"a\") as f:\n",
    "        f.write(f\"{destination_city}: {price} - {first_name}\\n\")\n",
    "    return \"Reservation confirmed\"\n"
   ]
  },
  {
   "cell_type": "code",
   "execution_count": 45,
   "id": "b0992986-ea09-4912-a076-8e5603ee631f",
   "metadata": {},
   "outputs": [],
   "source": [
    "# FIXED: Simplified handle_tool_call function\n",
    "def handle_tool_call(message):\n",
    "    tool_call = message.tool_calls[0]\n",
    "    arguments = json.loads(tool_call.function.arguments)\n",
    "    tool_name = tool_call.function.name\n",
    "\n",
    "    if tool_name == \"get_ticket_price\":\n",
    "        city = arguments.get('destination_city')\n",
    "        result = get_ticket_price(city)\n",
    "        response_data = {\"destination_city\": city, \"price\": result}\n",
    "        city_for_image = None\n",
    "\n",
    "    elif tool_name == \"store_reservation\":\n",
    "        city = arguments.get('destination_city')\n",
    "        price = arguments.get('price')\n",
    "        first_name = arguments.get('first_name')\n",
    "        \n",
    "        # The LLM should extract the name from conversation context\n",
    "        # If it doesn't, the function will fail and the LLM will ask for it\n",
    "        result = store_reservation(city, price, first_name)\n",
    "        response_data = {\"destination_city\": city, \"price\": price, \"first_name\": first_name, \"result\": result}\n",
    "        city_for_image = city\n",
    "\n",
    "    else:\n",
    "        response_data = {\"error\": \"Unknown tool\"}\n",
    "        city_for_image = None\n",
    "\n",
    "    response = {\n",
    "        \"role\": \"tool\",\n",
    "        \"content\": json.dumps(response_data),\n",
    "        \"tool_call_id\": tool_call.id\n",
    "    }\n",
    "\n",
    "    return response, city_for_image"
   ]
  },
  {
   "cell_type": "code",
   "execution_count": 46,
   "id": "773a9f11-557e-43c9-ad50-56cbec3a0f8f",
   "metadata": {},
   "outputs": [],
   "source": [
    "# FIXED: Artist function should return the image, not display it\n",
    "def artist(city, first_name):\n",
    "    image_response = openai.images.generate(\n",
    "        model=\"dall-e-3\",\n",
    "        prompt = f\"\"\"Design an airline boarding pass ticket. THE MOST IMPORTANT REQUIREMENT: \n",
    "The text \"PASSENGER NAME: {first_name.upper()}\" must be prominently displayed at the top in large, readable letters.\n",
    "Below this, show flight details to {city}, and at the bottom include artwork of {city} landmarks.\n",
    "This is critical: the name {first_name.upper()} MUST be visible and readable on the ticket.\"\"\",\n",
    "        size=\"1024x1024\",\n",
    "        n=1,\n",
    "        response_format=\"b64_json\",\n",
    "    )\n",
    "    image_base64 = image_response.data[0].b64_json\n",
    "    image_data = base64.b64decode(image_base64)\n",
    "    image = Image.open(BytesIO(image_data))\n",
    "    resized_image = image.resize((896, 512))  # Example size\n",
    "    return resized_image\n"
   ]
  },
  {
   "cell_type": "code",
   "execution_count": 47,
   "id": "ce9b0744-9c78-408d-b9df-9f6fd9ed78cf",
   "metadata": {},
   "outputs": [],
   "source": [
    "def chat(message, history):\n",
    "    messages = [{\"role\": \"system\", \"content\": system_message}] + history + [{\"role\": \"user\", \"content\": message}]   \n",
    "    response = openai.chat.completions.create(model=MODEL, messages=messages, tools=tools)\n",
    "    \n",
    "    \n",
    "    # If tool_calls, handle tool and re-call model\n",
    "    if response.choices[0].finish_reason == \"tool_calls\":\n",
    "        assistant_message = response.choices[0].message\n",
    "        tool_response, city = handle_tool_call(assistant_message)\n",
    "\n",
    "        messages.append(assistant_message)\n",
    "        messages.append(tool_response)\n",
    "\n",
    "        if city:\n",
    "            tool_data = json.loads(tool_response[\"content\"])\n",
    "            first_name = tool_data.get(\"first_name\")\n",
    "            if first_name:\n",
    "                image = artist(city, first_name)\n",
    "                from IPython.display import display\n",
    "                display(image)\n",
    "\n",
    "        response = openai.chat.completions.create(model=MODEL, messages=messages)\n",
    "\n",
    "    # ✅ Get the final assistant reply (both for tools and regular messages)\n",
    "    content = response.choices[0].message.content\n",
    "\n",
    "    # send content to talker\n",
    "    talker(response.choices[0].message.content)\n",
    "\n",
    "\n",
    "    # ✅ Translate *the assistant reply*, not the user message\n",
    "    translated_prompt = [\n",
    "        {\"role\": \"system\", \"content\": system_message_translator},\n",
    "        {\"role\": \"user\", \"content\": content}\n",
    "    ]\n",
    "    translated_response = openai.chat.completions.create(model=MODEL, messages=translated_prompt)\n",
    "    translated_content = translated_response.choices[0].message.content\n",
    "\n",
    "    return content, translated_content\n"
   ]
  },
  {
   "cell_type": "code",
   "execution_count": 48,
   "id": "56f5b1c8-deb0-49d6-bd23-73a7503a7943",
   "metadata": {},
   "outputs": [],
   "source": [
    "def gradio_create_chat_window():\n",
    "    with gr.Blocks() as ui:\n",
    "        with gr.Row():\n",
    "            with gr.Column(scale=2):\n",
    "                chatbot = gr.Chatbot(label=\"FlightAI Assistant\", height=500, type=\"messages\")\n",
    "                input_box = gr.Textbox(label=\"Type your message\", placeholder=\"How much is a ticket to Tokyo?\")\n",
    "                send_button = gr.Button(\"Send\")\n",
    "            with gr.Column(scale=1):\n",
    "                translated_output = gr.Textbox(label=\"Translation\", lines=20, rtl=True)\n",
    "    \n",
    "        def handle_chat(user_message, history, translation_history):\n",
    "            history = history or []\n",
    "            translation_history = translation_history or \"\"\n",
    "        \n",
    "            english_reply, translated_reply = chat(user_message, history)\n",
    "        \n",
    "            # Update chat history\n",
    "            history.append({\"role\": \"user\", \"content\": user_message})\n",
    "            history.append({\"role\": \"assistant\", \"content\": english_reply})\n",
    "        \n",
    "            # Append new translation to the existing translation history\n",
    "            translation_history += f\"\\n👤 {user_message}\\n🤖 {translated_reply}\\n\"\n",
    "        \n",
    "            return \"\", history, translation_history\n",
    "\n",
    "\n",
    "    \n",
    "        def translate(text):\n",
    "            # You can replace this with actual translation (Google Translate API, etc.)\n",
    "            return f\"[HE] {text}\"  # fake example\n",
    "    \n",
    "        send_button.click(\n",
    "            handle_chat,\n",
    "            inputs=[input_box, chatbot, translated_output],\n",
    "            outputs=[input_box, chatbot, translated_output]\n",
    "        )\n",
    "\n",
    "        input_box.submit(\n",
    "            handle_chat,\n",
    "            inputs=[input_box, chatbot, translated_output],\n",
    "            outputs=[input_box, chatbot, translated_output]\n",
    "        )\n",
    "    \n",
    "    ui.launch()\n",
    "\n"
   ]
  },
  {
   "cell_type": "code",
   "execution_count": 49,
   "id": "63a700b7-9be8-441f-b970-a4c9e65e4fc0",
   "metadata": {},
   "outputs": [],
   "source": [
    "import base64\n",
    "from io import BytesIO\n",
    "from PIL import Image\n",
    "from IPython.display import Audio, display\n",
    "\n",
    "def talker(message):\n",
    "    response = openai.audio.speech.create(\n",
    "        model=\"tts-1\",\n",
    "        voice=\"onyx\",\n",
    "        input=message)\n",
    "\n",
    "    audio_stream = BytesIO(response.content)\n",
    "    output_filename = \"output_audio.mp3\"\n",
    "    with open(output_filename, \"wb\") as f:\n",
    "        f.write(audio_stream.read())\n",
    "\n",
    "    # Play the generated audio\n",
    "    display(Audio(output_filename, autoplay=True))\n",
    "\n",
    "# talker(\"Well, hi there\")"
   ]
  },
  {
   "cell_type": "code",
   "execution_count": 50,
   "id": "f4be8a71-b19e-4c2f-80df-f59ff2661f14",
   "metadata": {},
   "outputs": [
    {
     "name": "stdout",
     "output_type": "stream",
     "text": [
      "* Running on local URL:  http://127.0.0.1:7869\n",
      "* To create a public link, set `share=True` in `launch()`.\n"
     ]
    },
    {
     "data": {
      "text/html": [
       "<div><iframe src=\"http://127.0.0.1:7869/\" width=\"100%\" height=\"500\" allow=\"autoplay; camera; microphone; clipboard-read; clipboard-write;\" frameborder=\"0\" allowfullscreen></iframe></div>"
      ],
      "text/plain": [
       "<IPython.core.display.HTML object>"
      ]
     },
     "metadata": {},
     "output_type": "display_data"
    },
    {
     "data": {
      "text/html": [
       "\n",
       "                <audio  controls=\"controls\" autoplay=\"autoplay\">\n",
       "                    <source src=\"data:audio/mpeg;base64,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\" type=\"audio/mpeg\" />\n",
       "                    Your browser does not support the audio element.\n",
       "                </audio>\n",
       "              "
      ],
      "text/plain": [
       "<IPython.lib.display.Audio object>"
      ]
     },
     "metadata": {},
     "output_type": "display_data"
    }
   ],
   "source": [
    "gradio_create_chat_window()"
   ]
  }
 ],
 "metadata": {
  "kernelspec": {
   "display_name": "Python 3 (ipykernel)",
   "language": "python",
   "name": "python3"
  },
  "language_info": {
   "codemirror_mode": {
    "name": "ipython",
    "version": 3
   },
   "file_extension": ".py",
   "mimetype": "text/x-python",
   "name": "python",
   "nbconvert_exporter": "python",
   "pygments_lexer": "ipython3",
   "version": "3.11.13"
  }
 },
 "nbformat": 4,
 "nbformat_minor": 5
}
