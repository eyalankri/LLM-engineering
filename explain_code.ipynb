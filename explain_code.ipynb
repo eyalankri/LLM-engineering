{
 "cells": [
  {
   "cell_type": "markdown",
   "id": "fe12c203-e6a6-452c-a655-afb8a03a4ff5",
   "metadata": {},
   "source": [
    "# End of week 1 exercise\n",
    "\n",
    "To demonstrate your familiarity with OpenAI API, and also Ollama, build a tool that takes a technical question,  \n",
    "and responds with an explanation. This is a tool that you will be able to use yourself during the course!"
   ]
  },
  {
   "cell_type": "code",
   "execution_count": 74,
   "id": "c1070317-3ed9-4659-abe3-828943230e03",
   "metadata": {},
   "outputs": [],
   "source": [
    "import os\n",
    "import requests\n",
    "import json\n",
    "import threading\n",
    "\n",
    "from dotenv import load_dotenv\n",
    "from openai import OpenAI\n",
    "from IPython.display import Markdown, display"
   ]
  },
  {
   "cell_type": "code",
   "execution_count": 48,
   "id": "91665cc9-49ff-48db-9d79-09389ea589a6",
   "metadata": {},
   "outputs": [],
   "source": [
    "def load_open_ai():\n",
    "    load_dotenv(override=True)\n",
    "    api_key = os.getenv('OPENAI_API_KEY')\n",
    "\n",
    "    if api_key and api_key.startswith('sk-proj-') and len(api_key) > 10:\n",
    "        print(\"API key looks good so far\")\n",
    "    else:\n",
    "        print(\"There might be a problem with your API key? Please visit the troubleshooting notebook!\")\n",
    "\n",
    "    openai = OpenAI()\n",
    "    MODEL_GPT = 'gpt-4o-mini'\n",
    " \n",
    "    return openai, MODEL_GPT\n"
   ]
  },
  {
   "cell_type": "code",
   "execution_count": 49,
   "id": "143eac33-5c75-4b59-8ebb-09d39189f0c2",
   "metadata": {},
   "outputs": [],
   "source": [
    "def load_ollama():\n",
    "    OLLAMA_API = \"http://localhost:11434/api/chat\"\n",
    "    HEADERS = {\"Content-Type\": \"application/json\"}\n",
    "    MODEL = \"llama3.2\"\n",
    "    \n",
    "    return OLLAMA_API, HEADERS, MODEL\n"
   ]
  },
  {
   "cell_type": "code",
   "execution_count": 50,
   "id": "a8d7923c-5f28-4c30-8556-342d7c8497c1",
   "metadata": {},
   "outputs": [],
   "source": [
    "system_prompt = (\n",
    "    \"You will be given a code snippet, which may be written in C#, Python, or Vue. \"\n",
    "    \"Your task is to explain what the code does and why it was written that way, using clear and simple language suitable for beginner developers. \"\n",
    "    \"Provide a step-by-step explanation and highlight any best practices or potential issues. \"\n",
    "    \"You are an experienced and thoughtful tech lead who enjoys mentoring others. \"\n",
    "    \"Do not introduce yourself or describe who you are in the response.\"\n",
    ")\n"
   ]
  },
  {
   "cell_type": "code",
   "execution_count": 51,
   "id": "4202b4aa-5bb2-413a-b37e-6ce42f1ff82c",
   "metadata": {},
   "outputs": [],
   "source": [
    "def build_prompts(code):\n",
    "    messages = [\n",
    "        {\"role\": \"system\", \"content\": system_prompt},\n",
    "        {\"role\": \"user\", \"content\": \"Please explain what this code does and why: \" + code}\n",
    "    ]\n",
    "    return messages\n"
   ]
  },
  {
   "cell_type": "code",
   "execution_count": 83,
   "id": "f9525fb0-47b6-4208-82bb-21e4b2095808",
   "metadata": {},
   "outputs": [],
   "source": [
    "def explain_code_open_ai(code):\n",
    "    openai, model = load_open_ai()\n",
    "    try:\n",
    "        stream = openai.chat.completions.create(\n",
    "            model=model,\n",
    "            messages=build_prompts(code),\n",
    "            stream=True\n",
    "        )    \n",
    "        response = \"\"\n",
    "        display_handle = display(Markdown(\"\"), display_id=True)\n",
    "        for chunk in stream:\n",
    "            response += chunk.choices[0].delta.content or ''\n",
    "            response = response.replace(\"```\",\"\").replace(\"markdown\", \"\")\n",
    "            update_display(Markdown(response), display_id=display_handle.display_id)\n",
    "    except Exception as e:\n",
    "        print(\"OpenAI API Error:\", e)\n"
   ]
  },
  {
   "cell_type": "code",
   "execution_count": 70,
   "id": "5100b8f2-6343-4e86-8d3e-8a16e93842ba",
   "metadata": {},
   "outputs": [],
   "source": [
    "def explain_code_open_ollama(code):  \n",
    "    api, headers, model = load_ollama()\n",
    "    payload = {\n",
    "        \"model\": model,\n",
    "        \"messages\": build_prompts(code),\n",
    "        \"stream\": False\n",
    "    }\n",
    "\n",
    "    response = requests.post(api, json=payload, headers=headers)\n",
    "\n",
    "    if response.status_code == 200:\n",
    "        data = response.json()  # convert Response to dict\n",
    "        content = data[\"message\"][\"content\"]  # extract content\n",
    "        display(Markdown(f\"### 🐑 I am **{model.upper()}**\\n\\n\" + content))\n",
    "    else:\n",
    "        print(f\"Error {response.status_code}: {response.text}\")\n"
   ]
  },
  {
   "cell_type": "code",
   "execution_count": 86,
   "id": "3f0d0137-52b0-47a8-81a8-11a90a010798",
   "metadata": {},
   "outputs": [],
   "source": [
    "\n",
    "def explain_code(code):\n",
    "    # Wrap the functions with target args\n",
    "    thread_ai = threading.Thread(target=explain_code_open_ai, args=(code,))\n",
    "    thread_ollama = threading.Thread(target=explain_code_open_ollama, args=(code,))\n",
    "    \n",
    "    # Start both in parallel\n",
    "    thread_ai.start()\n",
    "    thread_ollama.start()\n",
    "    \n",
    "    # Wait for both to finish\n",
    "    thread_ai.join()\n",
    "    thread_ollama.join()\n",
    "\n",
    "             \n",
    "# here is the question; type over this to ask something new\n"
   ]
  },
  {
   "cell_type": "code",
   "execution_count": 87,
   "id": "2ef6f739-b17d-4df1-b2fb-9410bd02ab77",
   "metadata": {},
   "outputs": [
    {
     "name": "stdout",
     "output_type": "stream",
     "text": [
      "API key looks good so far\n"
     ]
    },
    {
     "data": {
      "text/markdown": [
       "This code is a Python set comprehension. Let's break it down:\n",
       "\n",
       "1. **Understanding the Components**:\n",
       "    - `books`: This is expected to be a collection (like a list) of dictionaries. Each dictionary likely represents a book and may contain multiple keys such as \"title\", \"author\", etc.\n",
       "    - `book.get(\"author\")`: This uses the `get` method for dictionaries to safely retrieve the value associated with the key \"author\". If the key doesn't exist, it will return `None` instead of raising a KeyError. This is a safer way to access dictionary keys, as it won't cause a program crash if \"author\" is missing.\n",
       "    - The expression `{...}` indicates that we're creating a set. A set is a data structure that stores unique elements; so any duplicate authors will only show up once.\n",
       "\n",
       "2. **The Comprehension Logic**:\n",
       "    - `for book in books`: This loop iterates through each `book` dictionary in the `books` collection.\n",
       "    - `if book.get(\"author\")`: This condition checks whether the author exists (i.e., it's not `None` or an empty string). If there is a valid author, the author’s name will be added to the set being created.\n",
       "\n",
       "3. **What the Code Does**:\n",
       "   - This code creates a set of unique authors from the `books` collection where the \"author\" key exists and is not empty or `None`. \n",
       "\n",
       "4. **Why This is Useful**:\n",
       "   - It helps in collecting unique values—in this case, the authors of books—without needing additional logic to filter out duplicates.\n",
       "   - It can be particularly useful for reporting, displaying author names or further analysis where you only care about distinct authors.\n",
       "\n",
       "#### Example:\n",
       "Suppose `books` is defined as:\n",
       "python\n",
       "books = [\n",
       "    {\"title\": \"Book A\", \"author\": \"Author 1\"},\n",
       "    {\"title\": \"Book B\", \"author\": \"Author 2\"},\n",
       "    {\"title\": \"Book C\", \"author\": None},\n",
       "    {\"title\": \"Book D\", \"author\": \"Author 1\"},\n",
       "    {\"title\": \"Book E\"}\n",
       "]\n",
       "\n",
       "When you run the given code, it will produce a set that looks like this:\n",
       "python\n",
       "{\"Author 1\", \"Author 2\"}\n",
       "\n",
       "Here, \"Author 1\" appears twice in the list of books, but since we're using a set, it only appears once in the final output."
      ],
      "text/plain": [
       "<IPython.core.display.Markdown object>"
      ]
     },
     "metadata": {},
     "output_type": "display_data"
    },
    {
     "data": {
      "text/markdown": [
       "### 🐑 I am **LLAMA3.2**\n",
       "\n",
       "My fellow developer!\n",
       "\n",
       "This is a Python snippet that uses a concept called \"list comprehension\" or \"generator expression.\" It's used to extract specific data from an iterable (in this case, a list of dictionaries).\n",
       "\n",
       "Let's break it down:\n",
       "\n",
       "1. `{... for ...}`: This is the syntax for a generator expression. It's similar to a list comprehension, but instead of creating a new list, it generates values on-the-fly.\n",
       "2. `book.get(\"author\")`: This is the expression that will be executed for each item in the iterable. In this case, we're trying to access a value called `\"author\"` from each dictionary (`book`) using the `get()` method.\n",
       "\n",
       "Here's what happens when you put it all together:\n",
       "\n",
       "* The code loops through each dictionary (`book`) in the `books` list.\n",
       "* For each dictionary, it tries to retrieve the value associated with the key `\"author\"`.\n",
       "* If the key exists, it adds that value to the generated sequence (in this case, a generator object).\n",
       "* If the key doesn't exist, it skips to the next iteration.\n",
       "\n",
       "The resulting sequence is an iterator that yields values from the original dictionaries. These values are the author names of books where the author information is available.\n",
       "\n",
       "Here's an equivalent way to write this code using a traditional for loop:\n",
       "\n",
       "```python\n",
       "authors = []\n",
       "for book in books:\n",
       "    if \"author\" in book and book[\"author\"] is not None:\n",
       "        authors.append(book.get(\"author\"))\n",
       "```\n",
       "\n",
       "However, the generator expression version is more concise and efficient.\n",
       "\n",
       "**Why use this code?**\n",
       "\n",
       "This snippet is often used when you need to process a list of dictionaries and perform some operation on each item. In this case, it's extracting author information from a list of book dictionaries.\n",
       "\n",
       "Here are some scenarios where you might use this code:\n",
       "\n",
       "* When working with APIs or data feeds that return JSON or XML data.\n",
       "* When processing large datasets stored in databases or CSV files.\n",
       "* When building data pipelines to extract and transform data.\n",
       "\n",
       "As a best practice, it's essential to understand how list comprehensions and generator expressions work. They can make your code more concise, readable, and efficient!\n",
       "\n",
       "Do you have any questions about this code or would you like me to explain further?"
      ],
      "text/plain": [
       "<IPython.core.display.Markdown object>"
      ]
     },
     "metadata": {},
     "output_type": "display_data"
    }
   ],
   "source": [
    "# Type only the code you wish to get explained:\n",
    "code = '{book.get(\"author\") for book in books if book.get(\"author\")'\n",
    "explain_code(code)"
   ]
  },
  {
   "cell_type": "code",
   "execution_count": null,
   "id": "60ce7000-a4a5-4cce-a261-e75ef45063b4",
   "metadata": {},
   "outputs": [],
   "source": [
    "# Get gpt-4o-mini to answer, with streaming"
   ]
  },
  {
   "cell_type": "code",
   "execution_count": null,
   "id": "8f7c8ea8-4082-4ad0-8751-3301adcf6538",
   "metadata": {},
   "outputs": [],
   "source": [
    "# Get Llama 3.2 to answer"
   ]
  }
 ],
 "metadata": {
  "kernelspec": {
   "display_name": "Python 3 (ipykernel)",
   "language": "python",
   "name": "python3"
  },
  "language_info": {
   "codemirror_mode": {
    "name": "ipython",
    "version": 3
   },
   "file_extension": ".py",
   "mimetype": "text/x-python",
   "name": "python",
   "nbconvert_exporter": "python",
   "pygments_lexer": "ipython3",
   "version": "3.11.13"
  }
 },
 "nbformat": 4,
 "nbformat_minor": 5
}
